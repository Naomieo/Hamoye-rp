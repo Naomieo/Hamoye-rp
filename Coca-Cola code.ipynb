{
  "nbformat": 4,
  "nbformat_minor": 0,
  "metadata": {
    "colab": {
      "name": "Untitled8.ipynb",
      "provenance": [],
      "authorship_tag": "ABX9TyPIDmJeWtMqqCEwV7P8r0Oo",
      "include_colab_link": true
    },
    "kernelspec": {
      "name": "python3",
      "display_name": "Python 3"
    },
    "language_info": {
      "name": "python"
    }
  },
  "cells": [
    {
      "cell_type": "markdown",
      "metadata": {
        "id": "view-in-github",
        "colab_type": "text"
      },
      "source": [
        "<a href=\"https://colab.research.google.com/github/Naomieo/Hamoye-rp/blob/main/Coca-Cola%20code.ipynb\" target=\"_parent\"><img src=\"https://colab.research.google.com/assets/colab-badge.svg\" alt=\"Open In Colab\"/></a>"
      ]
    },
    {
      "cell_type": "code",
      "execution_count": null,
      "metadata": {
        "id": "xuwyGfbTMQOO"
      },
      "outputs": [],
      "source": [
        "import requests\n",
        "from bs4 import BeautifulSoup\n",
        "\n",
        "URL = \"https://investors.coca-colacompany.com/financial-information/financial-results\"\n",
        "r = requests.get(URL)\n",
        "\n",
        "soup = BeautifulSoup(r.content, 'html.parser')\n",
        "print(soup.prettify())"
      ]
    }
  ]
}