{
  "nbformat": 4,
  "nbformat_minor": 0,
  "metadata": {
    "colab": {
      "name": "Untitled7.ipynb",
      "provenance": [],
      "collapsed_sections": [],
      "authorship_tag": "ABX9TyMtTpyqGAiSleSlDnw1NyaW",
      "include_colab_link": true
    },
    "kernelspec": {
      "name": "python3",
      "display_name": "Python 3"
    },
    "language_info": {
      "name": "python"
    }
  },
  "cells": [
    {
      "cell_type": "markdown",
      "metadata": {
        "id": "view-in-github",
        "colab_type": "text"
      },
      "source": [
        "<a href=\"https://colab.research.google.com/github/Naomieo/Hamoye-rp/blob/main/Emesiri%20Naomi%20code.ipynb\" target=\"_parent\"><img src=\"https://colab.research.google.com/assets/colab-badge.svg\" alt=\"Open In Colab\"/></a>"
      ]
    },
    {
      "cell_type": "code",
      "execution_count": null,
      "metadata": {
        "id": "bxxpPMabDkms"
      },
      "outputs": [],
      "source": [
        "from urllib.request import urlopen \n",
        "from bs4 import BeautifulSoup \n",
        "\n",
        "URL = \"https://www.worldometers.info/coronavirus/#countries\"\n",
        "r = requests.get(URL)\n",
        "\n",
        "soup = BeautifulSoup(r.content, 'html.parser')\n",
        "\n",
        "containers = soup.findAll(\"div\", {\"id\" : \"nav-tabContent\"})\n",
        "#len(containers)\n",
        "\n",
        "container = containers[0]\n",
        "print(container)\n",
        "\n",
        "world = container.findAll(\"div\", {\"id\": \"main_table_countries_today_wrapper\"})\n",
        "\n",
        "continents = container.findAll(\"div\", {\"id\": \"ctabs-row\"}) \n",
        "\n"
      ]
    }
  ]
}