{
  "nbformat": 4,
  "nbformat_minor": 0,
  "metadata": {
    "colab": {
      "name": "Emesiri Naomi Code.ipynb",
      "provenance": [],
      "mount_file_id": "1Xi9Qb_2bE-ex34YJ6sLuGWR66btuZzR5",
      "authorship_tag": "ABX9TyOjjTUNn8lDzybTUHaPoN+9",
      "include_colab_link": true
    },
    "kernelspec": {
      "name": "python3",
      "display_name": "Python 3"
    },
    "language_info": {
      "name": "python"
    }
  },
  "cells": [
    {
      "cell_type": "markdown",
      "metadata": {
        "id": "view-in-github",
        "colab_type": "text"
      },
      "source": [
        "<a href=\"https://colab.research.google.com/github/Naomieo/Hamoye-rp/blob/main/Emesiri_Naomi_Code.ipynb\" target=\"_parent\"><img src=\"https://colab.research.google.com/assets/colab-badge.svg\" alt=\"Open In Colab\"/></a>"
      ]
    },
    {
      "cell_type": "code",
      "execution_count": null,
      "metadata": {
        "id": "yzI477xp8V-s",
        "colab": {
          "base_uri": "https://localhost:8080/"
        },
        "outputId": "81b006d4-9228-4cb7-d98b-a64a294c38da"
      },
      "outputs": [
        {
          "output_type": "stream",
          "name": "stdout",
          "text": [
            "Drive already mounted at /content/drive; to attempt to forcibly remount, call drive.mount(\"/content/drive\", force_remount=True).\n"
          ]
        }
      ],
      "source": [
        "from google.colab import drive\n",
        "drive.mount('/content/drive')"
      ]
    },
    {
      "cell_type": "code",
      "source": [
        "from pandas.core.groupby.groupby import GroupBy\n",
        "prodDatasetGrouped = prodDataset.groupby([\"Country\" , \"Year\"])[[\"Item\" , \"Value\"]].sum()\n",
        "print(prodDatasetGrouped)"
      ],
      "metadata": {
        "id": "XV9GqP6FqYnK"
      },
      "execution_count": null,
      "outputs": []
    },
    {
      "cell_type": "code",
      "source": [
        "prodDatasetGrouped = prodDataset.groupby([\"Country\" , \"Year\"], as_index=False)[[\"Item\" , \"Value\"]].agg([\"mean\", \"sum\"])\n",
        "print(prodDatasetGrouped)"
      ],
      "metadata": {
        "id": "sdprNfBDRTd9"
      },
      "execution_count": null,
      "outputs": []
    },
    {
      "cell_type": "code",
      "source": [
        "import pandas as pd\n",
        "import numpy as np\n",
        "import pandas_profiling as pp\n",
        "import altair as alt\n",
        "import seaborn as sns\n",
        "import matplotlib.pyplot as plt\n",
        "%matplotlib inline\n",
        "path = \"/content/drive/MyDrive/Dataset1 - Dataset01.csv\"\n",
        "prodDataset = pd.read_csv(path)\n",
        "prodDatasetGrouped = prodDataset.groupby([\"Country\" , \"Year\"], as_index=False)[[\"Item\" , \"Value\"]].agg([\"mean\", \"sum\"])\n",
        "print(prodDatasetGrouped)\n",
        "Top_countries = prodDatasetGrouped.head(20)"
      ],
      "metadata": {
        "id": "-seUn8MJSG8N"
      },
      "execution_count": null,
      "outputs": []
    },
    {
      "cell_type": "code",
      "source": [
        "import pandas as pd\n",
        "import numpy as np\n",
        "import pandas_profiling as pp\n",
        "import altair as alt\n",
        "import seaborn as sns\n",
        "import matplotlib.pyplot as plt\n",
        "%matplotlib inline\n",
        "path = \"/content/drive/MyDrive/Dataset2 - Dataset02 - Dataset2 - Dataset02.csv\"\n",
        "supplyDataset = pd.read_csv(path)"
      ],
      "metadata": {
        "id": "aBB-NaJsoWQc"
      },
      "execution_count": 4,
      "outputs": []
    },
    {
      "cell_type": "code",
      "source": [
        "#create a bar chart using Seaborn\n",
        "sns.set_style(\"whitegrid\")\n",
        "bar,ax = plt.subplots(figsize=(22,18))\n",
        "ax = sns.barplot(x='2014', y='index', data=Top_countries, ci=None, palette='Set1',orient='h')\n",
        "ax.set_title(schema['Country'], fontsize=25)\n",
        "ax.set_xlabel (\"Year\", fontsize=20)\n",
        "ax.set_ylabel (None, fontsize=20)\n",
        "ax.tick_params(axis='x', labelsize=15)\n",
        "ax.tick_params(axis='y', labelsize=15)"
      ],
      "metadata": {
        "id": "5Qw02GwYQG74"
      },
      "execution_count": null,
      "outputs": []
    }
  ]
}