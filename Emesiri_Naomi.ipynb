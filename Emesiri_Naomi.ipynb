{
  "nbformat": 4,
  "nbformat_minor": 0,
  "metadata": {
    "colab": {
      "name": "Emesiri Naomi.ipynb",
      "provenance": [],
      "collapsed_sections": [],
      "authorship_tag": "ABX9TyORKW9Bv9QEEOf+SG51DLQn",
      "include_colab_link": true
    },
    "kernelspec": {
      "name": "python3",
      "display_name": "Python 3"
    },
    "language_info": {
      "name": "python"
    }
  },
  "cells": [
    {
      "cell_type": "markdown",
      "metadata": {
        "id": "view-in-github",
        "colab_type": "text"
      },
      "source": [
        "<a href=\"https://colab.research.google.com/github/Naomieo/Hamoye-rp/blob/main/Emesiri_Naomi.ipynb\" target=\"_parent\"><img src=\"https://colab.research.google.com/assets/colab-badge.svg\" alt=\"Open In Colab\"/></a>"
      ]
    },
    {
      "cell_type": "code",
      "execution_count": null,
      "metadata": {
        "id": "FCc87Qe_8JKF"
      },
      "outputs": [],
      "source": [
        "import pandas as pd\n",
        "url='https://github.com/HamoyeHQ/HDSC-Introduction-to-Python-for-machine-learning/files/7768140/FoodBalanceSheets_E_Africa_NOFLAG.csv'\n",
        "df = pd.read_csv('https://github.com/HamoyeHQ/HDSC-Introduction-to-Python-for-machine-learning/files/7768140/FoodBalanceSheets_E_Africa_NOFLAG.csv', encoding=\"latin-1\")\n",
        "df.describe(include= 'all')\n",
        "# for question 11\n",
        "df.groupby(['Item']).agg('sum')\n",
        "# for question 12\n",
        "df.mean()\n",
        "df.std()\n",
        "# for question 13 \n",
        "df.isnull().sum()\n",
        "df.isnull().sum()* 100/len(df)\n",
        "# for question 14\n",
        "df.at[4, 'Y2014']\n",
        "df.at[4, 'Y2015']\n",
        "df.at[4, 'Y2016']\n",
        "df.at[4, 'Y2017']\n",
        "# for question 15 and 16\n",
        "df.groupby(['Element'])['Y2014','Y2015','Y2016','Y2017'].sum().reset_index()\n",
        "# for question 17 and 18\n",
        "df.groupby(['Element'])['Y2018'].sum().reset_index()\n",
        "# for question 19\n",
        "df.groupby(['Element', 'Area'])['Y2018'].sum().reset_index()\n",
        "# for question 20\n",
        "df['Area'].describe()\n"
      ]
    }
  ]
}